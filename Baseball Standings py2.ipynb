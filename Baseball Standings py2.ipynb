{
 "cells": [
  {
   "cell_type": "code",
   "execution_count": 44,
   "metadata": {
    "collapsed": false
   },
   "outputs": [],
   "source": [
    "def season(sims_to_run, idg, total_games):\n",
    "    import math, random, numpy as np\n",
    "\n",
    "    teams = [0,1,2,3,4]\n",
    "    records = np.zeros((5,4))\n",
    "\n",
    "    num_teams = len(teams)\n",
    "\n",
    "    intra_div = idg\n",
    "    cross_games = intra_div//(num_teams-1)\n",
    "    outre_div = total_games-intra_div\n",
    "\n",
    "    sims = sims_to_run\n",
    "\n",
    "    first_place_wins = np.empty(sims)\n",
    "    first_place_div_wins = np.empty(sims)\n",
    "    \n",
    "    for m in range(sims):\n",
    "        rem_intra_div = intra_div\n",
    "        records = np.zeros((5,4))\n",
    "        for i in range(num_teams):\n",
    "            opponents = teams[i+1:]\n",
    "            if i != 4:\n",
    "                for j in range(rem_intra_div):\n",
    "                    opp = opponents[j%len(opponents)]\n",
    "                    result = random.random()\n",
    "#            print('Game ',j,': ',i,opp,result)\n",
    "                    if result > 0.5:\n",
    "                        records[i,0] += 1\n",
    "                        records[i,2] += 1\n",
    "                        records[opp,1] += 1\n",
    "                        records[opp,3] += 1\n",
    "                    else: \n",
    "                        records[opp,0] += 1\n",
    "                        records[opp,2] += 1\n",
    "                        records[i,1] += 1\n",
    "                        records[i,3] += 1\n",
    "                rem_intra_div -= cross_games\n",
    "\n",
    "            for k in range(outre_div):\n",
    "                result = random.random()\n",
    "                if result > 0.5:\n",
    "                    records[i,0] +=1\n",
    "                else:\n",
    "                    records[i,1] +=1\n",
    "    \n",
    "        first_place_wins[m] = max(records[:,0])\n",
    "        first_place_div_wins[m] = max(records[:,2])\n",
    "        \n",
    "        league_dat = [np.mean(first_place_wins), np.median(first_place_wins), np.std(first_place_wins)]\n",
    "        div_dat = [np.mean(first_place_div_wins), np.median(first_place_div_wins), np.std(first_place_div_wins)]\n",
    "    return league_dat, div_dat"
   ]
  },
  {
   "cell_type": "code",
   "execution_count": 38,
   "metadata": {
    "collapsed": false
   },
   "outputs": [
    {
     "data": {
      "text/plain": [
       "(88.6614, 88.0, 4.009233098735967)"
      ]
     },
     "execution_count": 38,
     "metadata": {},
     "output_type": "execute_result"
    }
   ],
   "source": [
    "season(10000, 40, 162)"
   ]
  },
  {
   "cell_type": "code",
   "execution_count": 43,
   "metadata": {
    "collapsed": true
   },
   "outputs": [],
   "source": [
    "#old version (league data only)"
   ]
  },
  {
   "cell_type": "code",
   "execution_count": 41,
   "metadata": {
    "collapsed": false
   },
   "outputs": [
    {
     "name": "stdout",
     "output_type": "stream",
     "text": [
      "(4, (88.427899999999994, 88.0, 4.2592254683216755))\n",
      "(8, (88.416600000000003, 88.0, 4.2092807509122032))\n",
      "(16, (88.465199999999996, 88.0, 4.1714492637451555))\n",
      "(32, (88.515299999999996, 88.0, 4.1260836043395921))\n",
      "(64, (88.771600000000007, 89.0, 3.9032080959128992))\n",
      "(128, (89.100099999999998, 89.0, 3.6958463157983186))\n",
      "(162, (89.918899999999994, 89.0, 3.5357775368368412))\n"
     ]
    }
   ],
   "source": [
    "intra_div = [4,8,16,32,64,128,162]\n",
    "for n in intra_div:\n",
    "    print(n,season(10000, n, 162))"
   ]
  },
  {
   "cell_type": "code",
   "execution_count": null,
   "metadata": {
    "collapsed": true
   },
   "outputs": [],
   "source": [
    "#new version (league and division data)"
   ]
  },
  {
   "cell_type": "code",
   "execution_count": 45,
   "metadata": {
    "collapsed": false
   },
   "outputs": [
    {
     "name": "stderr",
     "output_type": "stream",
     "text": [
      "/Users/maxwyman/anaconda/envs/py27/lib/python2.7/site-packages/numpy/lib/function_base.py:3142: RuntimeWarning: Invalid value encountered in median\n",
      "  RuntimeWarning)\n",
      "/Users/maxwyman/anaconda/envs/py27/lib/python2.7/site-packages/numpy/core/_methods.py:105: RuntimeWarning: overflow encountered in multiply\n",
      "  x = um.multiply(x, x, out=x)\n"
     ]
    },
    {
     "name": "stdout",
     "output_type": "stream",
     "text": [
      "(4, ([88.394800000000004, 88.0, 4.208721059894561], [3.2923, 3.0, 0.50483731042782487]))\n",
      "(8, ([88.445300000000003, 88.0, 4.1847112098686088], [5.8234000000000004, 6.0, 0.75948169168189961]))\n",
      "(16, ([88.4846, 88.0, 4.1839649663925247], [10.5909, 10.0, 1.0913006872535176]))\n",
      "(32, ([88.590900000000005, 88.0, 4.0773443796176938], [19.666699999999999, 19.0, 1.5619254495653754]))\n",
      "(64, ([88.775000000000006, 89.0, 3.9659771809731836], [37.197899999999997, 37.0, 2.2288417597487711]))\n",
      "(128, ([89.060100000000006, 89.0, 3.6874500661025906], [71.307199999999995, 71.0, 3.1580734886952837]))\n",
      "(162, ([89.894900000000007, 89.0, 3.5599233123762652], [89.894900000000007, 89.0, 3.5599233123762652]))\n"
     ]
    }
   ],
   "source": [
    "intra_div = [4,8,16,32,64,128,162]\n",
    "for n in intra_div:\n",
    "    print(n,season(10000, n, 162))"
   ]
  },
  {
   "cell_type": "code",
   "execution_count": null,
   "metadata": {
    "collapsed": true
   },
   "outputs": [],
   "source": []
  }
 ],
 "metadata": {
  "kernelspec": {
   "display_name": "Python 2",
   "language": "python",
   "name": "python2"
  },
  "language_info": {
   "codemirror_mode": {
    "name": "ipython",
    "version": 2
   },
   "file_extension": ".py",
   "mimetype": "text/x-python",
   "name": "python",
   "nbconvert_exporter": "python",
   "pygments_lexer": "ipython2",
   "version": "2.7.11"
  }
 },
 "nbformat": 4,
 "nbformat_minor": 0
}
