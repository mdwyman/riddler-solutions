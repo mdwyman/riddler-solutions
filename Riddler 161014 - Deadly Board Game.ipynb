{
 "cells": [
  {
   "cell_type": "markdown",
   "metadata": {},
   "source": [
    "# Riddler - _Can You Survive This Deadly Boardgame?_\n",
    "_October 14, 2016_\n",
    "\n",
    "In the [Riddler Classic](http://fivethirtyeight.com/features/can-you-survive-this-deadly-board-game/) we're asked:\n",
    "\n",
    ">While traveling in the Kingdom of Arbitraria, you are accused of a heinous crime. Arbitraria decides who’s guilty or innocent not through a court system, but a board game. It’s played on a simple board: a track with sequential spaces numbered from 0 to 1,000. The zero space is marked “start,” and your token is placed on it. You are handed a fair six-sided die and three coins. You are allowed to place the coins on three different (nonzero) spaces. Once placed, the coins may not be moved.\n",
    "\n",
    ">After placing the three coins, you roll the die and move your token forward the appropriate number of spaces. If, after moving the token, it lands on a space with a coin on it, you are freed. If not, you roll again and continue moving forward. If your token passes all three coins without landing on one, you are executed. On which three spaces should you place the coins to maximize your chances of survival?\n",
    "\n",
    "## Analytic solution\n",
    "\n",
    "I have no idea how to do this, so let's attempt the computational solution first, then see if it can be \"checked\" analytically.\n",
    "\n",
    "## Computational solution\n",
    "\n",
    "Let's run 10000 trials keeping track where the token lands for each trial.  We can then sum up along the trials axis yeilding a histogram for how often each position was landed on."
   ]
  },
  {
   "cell_type": "code",
   "execution_count": 1,
   "metadata": {
    "collapsed": false
   },
   "outputs": [],
   "source": [
    "%matplotlib inline\n",
    "import numpy as np\n",
    "import matplotlib.pyplot as plt\n",
    "\n",
    "trials = 10000\n",
    "dat = np.empty((1000, trials))\n",
    "\n",
    "for i in range(trials):\n",
    "    count = 0\n",
    "    while count < 1000:\n",
    "        roll = np.random.randint(6)+1\n",
    "        count += roll\n",
    "        if count < 1000:\n",
    "            dat[count-1, i] += 1\n",
    "\n",
    "paleo_histo = np.sum(dat, axis = 1)"
   ]
  },
  {
   "cell_type": "code",
   "execution_count": 2,
   "metadata": {
    "collapsed": false
   },
   "outputs": [
    {
     "data": {
      "text/plain": [
       "<Container object of 1000 artists>"
      ]
     },
     "execution_count": 2,
     "metadata": {},
     "output_type": "execute_result"
    },
    {
     "data": {
      "image/png": "[encoded data removed]",
      "text/plain": [
       "<matplotlib.figure.Figure at 0x104feb0b8>"
      ]
     },
     "metadata": {},
     "output_type": "display_data"
    }
   ],
   "source": [
    "plt.bar(np.arange(1000)+1,paleo_histo)"
   ]
  },
  {
   "cell_type": "markdown",
   "metadata": {},
   "source": [
    "It seems pretty clear that early on in the sequence is point of maximum probability so let's zoom in:"
   ]
  },
  {
   "cell_type": "code",
   "execution_count": 3,
   "metadata": {
    "collapsed": false
   },
   "outputs": [
    {
     "data": {
      "text/plain": [
       "<Container object of 20 artists>"
      ]
     },
     "execution_count": 3,
     "metadata": {},
     "output_type": "execute_result"
    },
    {
     "data": {
      "image/png": "[encoded data removed]",
      "text/plain": [
       "<matplotlib.figure.Figure at 0x112902978>"
      ]
     },
     "metadata": {},
     "output_type": "display_data"
    }
   ],
   "source": [
    "plt.bar(np.arange(20)+1,paleo_histo[0:20])"
   ]
  },
  {
   "cell_type": "markdown",
   "metadata": {},
   "source": [
    "So it looks like the maximum probability is at 6.  We have to be carefull for the other two positions.  It looks like it could be 5 but the third position is unclear. What we need to bear in mind though is that some of these routes went \"through\" the 6 spot so we need to remove all trials that landed on 6:"
   ]
  },
  {
   "cell_type": "code",
   "execution_count": 4,
   "metadata": {
    "collapsed": false,
    "scrolled": true
   },
   "outputs": [
    {
     "data": {
      "text/plain": [
       "<Container object of 1000 artists>"
      ]
     },
     "execution_count": 4,
     "metadata": {},
     "output_type": "execute_result"
    },
    {
     "data": {
      "image/png": "[encoded data removed]",
      "text/plain": [
       "<matplotlib.figure.Figure at 0x112add940>"
      ]
     },
     "metadata": {},
     "output_type": "display_data"
    }
   ],
   "source": [
    "dat2 = dat[:,dat[np.argmax(paleo_histo)]==0]\n",
    "histo2 = np.sum(dat2,axis=1)\n",
    "plt.bar(np.arange(1000)+1,histo2)"
   ]
  },
  {
   "cell_type": "markdown",
   "metadata": {},
   "source": [
    "Again it's pretty clear the maximum is near the beginning, so zooming in:"
   ]
  },
  {
   "cell_type": "code",
   "execution_count": 5,
   "metadata": {
    "collapsed": false
   },
   "outputs": [
    {
     "data": {
      "text/plain": [
       "<Container object of 20 artists>"
      ]
     },
     "execution_count": 5,
     "metadata": {},
     "output_type": "execute_result"
    },
    {
     "data": {
      "image/png": "[encoded data removed]",
      "text/plain": [
       "<matplotlib.figure.Figure at 0x112c4bb00>"
      ]
     },
     "metadata": {},
     "output_type": "display_data"
    }
   ],
   "source": [
    "plt.bar(np.arange(20)+1,histo2[0:20])"
   ]
  },
  {
   "cell_type": "markdown",
   "metadata": {},
   "source": [
    "Now it's clear that for trials that didn't go through 6, the next best spot is 5.  Again let's remove those trials and find the 3rd spot:"
   ]
  },
  {
   "cell_type": "code",
   "execution_count": 6,
   "metadata": {
    "collapsed": false
   },
   "outputs": [
    {
     "name": "stdout",
     "output_type": "stream",
     "text": [
      "2621.0\n",
      "4\n"
     ]
    }
   ],
   "source": [
    "print(histo2[np.argmax(histo2)])\n",
    "print(np.argmax(histo2))"
   ]
  },
  {
   "cell_type": "code",
   "execution_count": 7,
   "metadata": {
    "collapsed": false
   },
   "outputs": [
    {
     "data": {
      "text/plain": [
       "<Container object of 1000 artists>"
      ]
     },
     "execution_count": 7,
     "metadata": {},
     "output_type": "execute_result"
    },
    {
     "data": {
      "image/png": "[encoded data removed]",
      "text/plain": [
       "<matplotlib.figure.Figure at 0x11775c780>"
      ]
     },
     "metadata": {},
     "output_type": "display_data"
    }
   ],
   "source": [
    "dat3 = dat2[:,dat2[np.argmax(histo2)]==0]\n",
    "histo3 = np.sum(dat3,axis=1)\n",
    "plt.bar(np.arange(1000)+1,histo3)"
   ]
  },
  {
   "cell_type": "markdown",
   "metadata": {},
   "source": [
    "Again it's pretty clear the maximum is near the beginning, so zooming in:"
   ]
  },
  {
   "cell_type": "code",
   "execution_count": 8,
   "metadata": {
    "collapsed": false
   },
   "outputs": [
    {
     "data": {
      "text/plain": [
       "<Container object of 20 artists>"
      ]
     },
     "execution_count": 8,
     "metadata": {},
     "output_type": "execute_result"
    },
    {
     "data": {
      "image/png": "[encoded data removed]",
      "text/plain": [
       "<matplotlib.figure.Figure at 0x1177af518>"
      ]
     },
     "metadata": {},
     "output_type": "display_data"
    }
   ],
   "source": [
    "plt.bar(np.arange(20)+1,histo3[0:20])"
   ]
  },
  {
   "cell_type": "code",
   "execution_count": 9,
   "metadata": {
    "collapsed": false
   },
   "outputs": [
    {
     "name": "stdout",
     "output_type": "stream",
     "text": [
      "3\n",
      "1732.0\n"
     ]
    }
   ],
   "source": [
    "print(np.argmax(histo3))\n",
    "print(histo3[np.argmax(histo3)])"
   ]
  },
  {
   "cell_type": "markdown",
   "metadata": {},
   "source": [
    "So it's pretty clear it's 4.  The probability of survival then is:"
   ]
  },
  {
   "cell_type": "code",
   "execution_count": 10,
   "metadata": {
    "collapsed": false
   },
   "outputs": [
    {
     "name": "stdout",
     "output_type": "stream",
     "text": [
      "0.7924\n"
     ]
    }
   ],
   "source": [
    "print((max(paleo_histo)+max(histo2)+max(histo3))/trials)\n"
   ]
  },
  {
   "cell_type": "markdown",
   "metadata": {},
   "source": [
    "## Analytic Check of solution\n",
    "\n",
    "So maybe it should have been clearer in the beginning that choosing numbers between 1 and 6 would be best strategy as you could get 1/2 chance on the first roll, with good chances of success on subsequent rolls for the non-winning first rolls. So it seems straight forward to check that the computed probability of 79.24% for a strategy of picking 4, 5, and 6 fo the location of the coins.\n",
    "\n",
    "The most rolls possible and still win is 4, so we can write out the probability of avoiding execution as the sum of probabilities for doing so on the 1st through 4th rolls:\n",
    "\n",
    "$$P_{success}\\ =\\ P_1 + P_2 + P_3 + P_4$$\n",
    "\n",
    "On the first roll, you have a 0.5 chance of hitting your coins (P_1 = 0.5) and then a 1/6 chance of your token hitting each of 1, 2, or 3. So on your first roll you have a 50% chance of avoiding execution. Regardless of \"losing\" roll, you still have a 50% chance of success on the second roll: 1,2, or 3 after a 3; 2,3, or 4 after a 2; and 3,4, or 5 after a 1. Given a second roll, the probability of winning is 50%, so $P_2\\ = 0.5 \\times 0.5 = 0.25$\n",
    "\n",
    "If we've made it to third roll, it's only by three routss: we rolled a 2 and then a 1 or we rolled a 1 and then 1 or 2.  Do so has a probability of $\\frac{1}{6}\\times\\frac{1}{6}\\ +\\ \\frac{1}{6}\\times (\\frac{1}{6}\\ + \\frac{1}{6}) = \\frac{1}{12}$. Note: it's not simply $1 - P_1 - P_2 = 0.25$ as that includes \"execution\" rolls putting us past the 6 spot. From either the 2 or 3 spot, the probability of winning is again 50%, so $P_3\\ = \\frac{1}{2}\\times \\frac{1}{12} = \\frac{1}{24}$.\n",
    "\n",
    "To make it to a fourth roll, we'd have had roll three 1's (probability $=\\frac{1}{6}^3$), and to survive this (final) roll, we have 50% chance, so $P_4 = \\frac{1}{432}$, leading to:\n",
    "\n",
    "$$P_{success}\\ = \\frac{1}{2} + \\frac{1}{4} + \\frac{1}{24} + \\frac{1}{432} = 0.79398$$\n",
    "\n",
    "Close enough?"
   ]
  },
  {
   "cell_type": "markdown",
   "metadata": {},
   "source": [
    "## Addendum...\n",
    "\n",
    "How'd I do?...."
   ]
  },
  {
   "cell_type": "code",
   "execution_count": null,
   "metadata": {
    "collapsed": true
   },
   "outputs": [],
   "source": []
  }
 ],
 "metadata": {
  "kernelspec": {
   "display_name": "Python 3",
   "language": "python",
   "name": "python3"
  },
  "language_info": {
   "codemirror_mode": {
    "name": "ipython",
    "version": 3
   },
   "file_extension": ".py",
   "mimetype": "text/x-python",
   "name": "python",
   "nbconvert_exporter": "python",
   "pygments_lexer": "ipython3",
   "version": "3.5.1"
  }
 },
 "nbformat": 4,
 "nbformat_minor": 0
}
