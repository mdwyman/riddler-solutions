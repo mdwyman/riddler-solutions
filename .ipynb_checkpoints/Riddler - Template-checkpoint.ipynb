{
 "cells": [
  {
   "cell_type": "markdown",
   "metadata": {},
   "source": [
    "# Riddler - _Title_\n",
    "_Month Day, Year_ \n",
    "\n",
    "In the [Riddler Classic](http://fivethirtyeight.com/features/how-high-can-count-von-count-count/) we're asked:\n",
    "\n",
    ">Puzzle description\n",
    "\n",
    "\n",
    "## Analytic solution\n",
    "\n",
    "Try analytic solution\n",
    "\n",
    "## Computational solution\n",
    "\n",
    "Describe computational solution -- put comments between code snippets\n",
    "\n",
    "Setup environment"
   ]
  },
  {
   "cell_type": "code",
   "execution_count": 1,
   "metadata": {
    "collapsed": true
   },
   "outputs": [],
   "source": [
    "%matplotlib inline\n",
    "import numpy as np\n",
    "import matplotlib.pyplot as plt"
   ]
  },
  {
   "cell_type": "markdown",
   "metadata": {},
   "source": [
    "### Perhaps solution needs function or two\n",
    "- describe function (pseudo code)"
   ]
  },
  {
   "cell_type": "code",
   "execution_count": 2,
   "metadata": {
    "collapsed": false
   },
   "outputs": [],
   "source": [
    "def function_1(input):\n",
    "\n",
    "    \n",
    "    return output\n"
   ]
  },
  {
   "cell_type": "markdown",
   "metadata": {},
   "source": [
    "### Main body\n",
    "\n",
    "Describe main body of code"
   ]
  },
  {
   "cell_type": "code",
   "execution_count": 3,
   "metadata": {
    "collapsed": false
   },
   "outputs": [],
   "source": [
    "teams = np.arange(30)+1\n",
    "num_teams = len(teams)\n",
    "\n",
    "drafts = 100000\n",
    "draft_pos = np.empty((drafts, num_teams))\n",
    "\n",
    "for i in range(100000):\n",
    "    new_draft = draft_order(teams)\n",
    "    for j in range(num_teams):\n",
    "        draft_pos[i, j] = int(np.where(new_draft == teams[j])[0])+1\n",
    "\n",
    "mean_pos = np.empty(num_teams)\n",
    "        \n",
    "for k in range(num_teams):\n",
    "    mean_pos[k] = np.mean(draft_pos[:,k])"
   ]
  },
  {
   "cell_type": "markdown",
   "metadata": {},
   "source": [
    "### Plotting output \n",
    "\n",
    "Describe plots\n"
   ]
  },
  {
   "cell_type": "code",
   "execution_count": 4,
   "metadata": {
    "collapsed": false
   },
   "outputs": [],
   "source": [
    "def plot_draft_hist(team, teams, draft_pos, mean_pos):\n",
    "    results, bins = np.histogram(draft_pos[:,team-1], bins = np.concatenate((teams,np.arange(1)+31))-0.5)\n",
    "    center = (bins[:-1]+bins[1:])/2\n",
    "    plt.bar(center, results/1e5, align = 'center')\n",
    "    plt.axvline(mean_pos[team-1], color = 'green')\n",
    "    plt.xlabel('Draft Position')\n",
    "    plt.ylabel('Frequency')\n",
    "    plt.title('Team #'+str(teams[team-1])+' outcomes')\n",
    "    plt.show()\n",
    "    \n",
    "    return(np.sum(results))\n"
   ]
  },
  {
   "cell_type": "markdown",
   "metadata": {},
   "source": [
    "## Conclusions\n"
   ]
  },
  {
   "cell_type": "markdown",
   "metadata": {},
   "source": [
    "## Addendum\n",
    "Checking solution -- how does my solution compare"
   ]
  },
  {
   "cell_type": "code",
   "execution_count": null,
   "metadata": {
    "collapsed": true
   },
   "outputs": [],
   "source": []
  }
 ],
 "metadata": {
  "kernelspec": {
   "display_name": "Python 3",
   "language": "python",
   "name": "python3"
  },
  "language_info": {
   "codemirror_mode": {
    "name": "ipython",
    "version": 3
   },
   "file_extension": ".py",
   "mimetype": "text/x-python",
   "name": "python",
   "nbconvert_exporter": "python",
   "pygments_lexer": "ipython3",
   "version": "3.5.1"
  }
 },
 "nbformat": 4,
 "nbformat_minor": 0
}
