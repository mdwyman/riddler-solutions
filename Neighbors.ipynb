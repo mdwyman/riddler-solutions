{
 "cells": [
  {
   "cell_type": "code",
   "execution_count": 4,
   "metadata": {
    "collapsed": false,
    "scrolled": true
   },
   "outputs": [
    {
     "name": "stdout",
     "output_type": "stream",
     "text": [
      "0\n",
      "1\n",
      "2\n",
      "3\n",
      "4\n",
      "5\n",
      "6\n",
      "7\n"
     ]
    }
   ],
   "source": [
    "N = 8\n",
    "full_hoods = 0\n",
    "possible_hoods = fl\n",
    "for i in range(0,N):\n",
    "    for j in range(0,)"
   ]
  },
  {
   "cell_type": "code",
   "execution_count": 5,
   "metadata": {
    "collapsed": false
   },
   "outputs": [
    {
     "data": {
      "text/plain": [
       "38"
      ]
     },
     "execution_count": 5,
     "metadata": {},
     "output_type": "execute_result"
    }
   ],
   "source": [
    "int('100110',2)"
   ]
  },
  {
   "cell_type": "code",
   "execution_count": 14,
   "metadata": {
    "collapsed": false
   },
   "outputs": [
    {
     "data": {
      "text/plain": [
       "'00000000000000000110'"
      ]
     },
     "execution_count": 14,
     "metadata": {},
     "output_type": "execute_result"
    }
   ],
   "source": [
    "bin(6)[2:].zfill(NN)"
   ]
  },
  {
   "cell_type": "code",
   "execution_count": 25,
   "metadata": {
    "collapsed": false
   },
   "outputs": [
    {
     "name": "stdout",
     "output_type": "stream",
     "text": [
      "[2 3 4 5 6 7 8 9]\n"
     ]
    }
   ],
   "source": [
    "import numpy as np\n",
    "N = 8\n",
    "possible_hoods = np.arange(N)+1\n",
    "print(possible_hoods)"
   ]
  },
  {
   "cell_type": "code",
   "execution_count": 20,
   "metadata": {
    "collapsed": false
   },
   "outputs": [
    {
     "name": "stdout",
     "output_type": "stream",
     "text": [
      "8\n"
     ]
    }
   ],
   "source": [
    "print(possible_hoods)"
   ]
  },
  {
   "cell_type": "code",
   "execution_count": null,
   "metadata": {
    "collapsed": false
   },
   "outputs": [
    {
     "name": "stdout",
     "output_type": "stream",
     "text": [
      "1 2 1 0.5\n",
      "2 2 2 0.5\n",
      "3 2 3 0.5\n",
      "4 3 6 0.5\n",
      "5 4 9 0.45\n",
      "6 5 14 0.4666666666666666\n",
      "7 7 22 0.4489795918367347\n",
      "8 9 32 0.4444444444444444\n",
      "9 12 48 0.4444444444444444\n",
      "10 16 70 0.4375\n",
      "11 21 101 0.4372294372294372\n",
      "12 28 146 0.43452380952380953\n",
      "13 37 208 0.43243243243243246\n",
      "14 49 296 0.43148688046647227\n",
      "15 65 419 0.4297435897435898\n",
      "16 86 590 0.42877906976744184\n",
      "17 114 829 0.42776057791537664\n"
     ]
    }
   ],
   "source": [
    "def num_hoods(sites):\n",
    "\n",
    "    import numpy as np\n",
    "\n",
    "    def clean_hoods(poss_hoods, sites):\n",
    "        NN = poss_hoods.shape[0]\n",
    "        real_hoods = poss_hoods\n",
    "        for i in poss_hoods:\n",
    "            test = bin(i)[2:].zfill(sites)\n",
    "            if test[sites-2:] == '00' or test[sites-2:] == '11': \n",
    "                real_hoods = np.delete(real_hoods, np.where(real_hoods==i))\n",
    "            if test[0:2] == '00' or test[sites-2:] == '11': \n",
    "                real_hoods = np.delete(real_hoods, np.where(real_hoods==i))\n",
    "            if test.find('11') != -1 or test.find('000') != -1:\n",
    "                real_hoods = np.delete(real_hoods, np.where(real_hoods==i))\n",
    "        return real_hoods\n",
    "\n",
    "    #sites = 8\n",
    "    N = 2**sites\n",
    "    possible_hoods = np.arange(N)\n",
    "    good_hoods = clean_hoods(possible_hoods, sites)\n",
    "    \n",
    "    return good_hoods\n",
    "\n",
    "for j in range(1,30):\n",
    "    good_hoods = num_hoods(j)\n",
    "    total_homes = 0\n",
    "    for k in good_hoods:\n",
    "        inbin = bin(k)\n",
    "        total_homes += inbin.count('1')\n",
    "    occupancy = total_homes/good_hoods.shape[0]/j\n",
    "    print(j, good_hoods.shape[0], total_homes, occupancy)"
   ]
  },
  {
   "cell_type": "code",
   "execution_count": 70,
   "metadata": {
    "collapsed": false
   },
   "outputs": [
    {
     "name": "stdout",
     "output_type": "stream",
     "text": [
      "1\n",
      "2\n",
      "3\n",
      "4\n",
      "5\n",
      "6\n",
      "7\n",
      "8\n",
      "9\n",
      "10\n",
      "11\n",
      "12\n"
     ]
    }
   ],
   "source": []
  },
  {
   "cell_type": "code",
   "execution_count": 41,
   "metadata": {
    "collapsed": false
   },
   "outputs": [
    {
     "name": "stdout",
     "output_type": "stream",
     "text": [
      "256\n"
     ]
    }
   ],
   "source": [
    "sites = 8\n",
    "N = 2**sites\n",
    "print(N)"
   ]
  },
  {
   "cell_type": "code",
   "execution_count": 39,
   "metadata": {
    "collapsed": false
   },
   "outputs": [
    {
     "data": {
      "text/plain": [
       "10"
      ]
     },
     "execution_count": 39,
     "metadata": {},
     "output_type": "execute_result"
    }
   ],
   "source": [
    "2^8"
   ]
  },
  {
   "cell_type": "code",
   "execution_count": 40,
   "metadata": {
    "collapsed": false
   },
   "outputs": [
    {
     "data": {
      "text/plain": [
       "256"
      ]
     },
     "execution_count": 40,
     "metadata": {},
     "output_type": "execute_result"
    }
   ],
   "source": [
    "2**8"
   ]
  },
  {
   "cell_type": "code",
   "execution_count": null,
   "metadata": {
    "collapsed": true
   },
   "outputs": [],
   "source": []
  }
 ],
 "metadata": {
  "kernelspec": {
   "display_name": "Python 3",
   "language": "python",
   "name": "python3"
  },
  "language_info": {
   "codemirror_mode": {
    "name": "ipython",
    "version": 3
   },
   "file_extension": ".py",
   "mimetype": "text/x-python",
   "name": "python",
   "nbconvert_exporter": "python",
   "pygments_lexer": "ipython3",
   "version": "3.5.1"
  }
 },
 "nbformat": 4,
 "nbformat_minor": 0
}
