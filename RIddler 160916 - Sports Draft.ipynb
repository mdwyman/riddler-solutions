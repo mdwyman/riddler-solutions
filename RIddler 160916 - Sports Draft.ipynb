{
 "cells": [
  {
   "cell_type": "markdown",
   "metadata": {},
   "source": [
    "# Riddler - _How High Can Count Von Count Count?_\n",
    "_Sept. 16th, 2016_ \n",
    "\n",
    "In the [Riddler Classic](http://fivethirtyeight.com/features/how-high-can-count-von-count-count/) we're asked:\n",
    "\n",
    ">You are one of 30 team owners in a professional sports league. In the past, your league set the order for its annual draft using the teams’ records from the previous season — the team with the worst record got the first draft pick, the team with the second-worst record got the next pick, and so on. However, due to concerns about teams intentionally losing games to improve their picks, the league adopts a modified system. This year, each team tosses a coin. All the teams that call their coin toss correctly go into Group A, and the teams that lost the toss go into Group B. All the Group A teams pick before all the Group B teams; within each group, picks are ordered in the traditional way, from worst record to best. If your team would have picked 10th in the old system, what is your expected draft position under the new system?\n",
    "\n",
    "Seems straight forward ...\n",
    "\n",
    "## Analytic solution\n",
    "\n",
    "We can write the expected value for a given team, $x$ as $$E(x) = P_{correct} \\times E_A(x) + P_{incorrect} \\times E_B(x)$$ \n",
    "\n",
    "where $P_{correct} = P_{incorrect} = \\frac{1}{2}$ and $E_A(x)$ & $E_B(x)$ are the expected values for draft position if in Group A and Group B respectively.\n",
    "\n",
    "If Team X falls into Group A, then it's expected draft position will be 1 + number of teams ahead of it that called their coin correctly: $$E_A(x) = 1 + \\frac{1}{2} \\times (x-1)$$.  The 1 accounts for Team X's position.\n",
    "\n",
    "If Team X falls into Group B, then it's expected draft position will be 1 + all the teams ahead of it (1 through X-1) will still be ahead of it regardless of coin-flip result + all teams from X+1 to 30 who do call their coin flip correctly will be ahead of it: $$E_B(x) = 1 + (x-1) + \\frac{1}{2}\\times (30 - N)$$\n",
    "\n",
    "Putting it all together: $$E(x) = \\frac{1}{2}\\times[1 + \\frac{1}{2} \\times (x-1)] + \\frac{1}{2}\\times[1 + (x-1) + \\frac{1}{2}\\times (30 - x)]$$ which reduces to: $$E(x) = \\frac{x}{2} + \\frac{31}{4}$$\n",
    "\n",
    "Pretty simple -- a nice linear function \"un-weights\" the record.  But this is the expected value and doesn't say anything about the distribution of draft position outcomes -- that would be more complicated analytically.  Let's let the computer do the heavy-lifting\n",
    "\n",
    "## Computational solution\n",
    "As for team labels, \"1\" will represent team with first pick under the old system (i.e. worst record) and \"30\" the team with the 30th pick (best record).\n",
    "\n",
    "First lets setup the environment..."
   ]
  },
  {
   "cell_type": "code",
   "execution_count": 1,
   "metadata": {
    "collapsed": true
   },
   "outputs": [],
   "source": [
    "%matplotlib inline\n",
    "import numpy as np\n",
    "import matplotlib.pyplot as plt"
   ]
  },
  {
   "cell_type": "markdown",
   "metadata": {},
   "source": [
    "### Draft_order function\n",
    "- Give it a list of teams.  \n",
    "- Each team flips a \"coin\" i.e. chooses randomly between \"0\" and \"1\".  \n",
    "    - 0's are correct calls (Group A)\n",
    "    - and 1's are incorrect calls (Group B).\n",
    "- Draft order array is created from the two groups' arrays"
   ]
  },
  {
   "cell_type": "code",
   "execution_count": 2,
   "metadata": {
    "collapsed": false
   },
   "outputs": [],
   "source": [
    "def draft_order(teams):\n",
    "    num_teams = len(teams)\n",
    "    \n",
    "    #random array of 1 or 0?\n",
    "    coins = np.random.randint(2,size = num_teams)\n",
    "    \n",
    "    #Group A teams in order (coins = 0)\n",
    "    teams_a = teams[coins == 0]\n",
    "        \n",
    "    #Group B teams in order (coins = 1)\n",
    "    teams_b = teams[coins == 1]\n",
    "    \n",
    "    #combine for total order\n",
    "    draft = np.concatenate((teams_a,teams_b))\n",
    "    \n",
    "    return draft\n"
   ]
  },
  {
   "cell_type": "markdown",
   "metadata": {},
   "source": [
    "### Main body\n",
    "\n",
    "Let's do 100k runs with 30 teams. The draft order for the each run will be stored in __draft_pos__. We'll also calculate the expected value for each team (__mean_pos__)."
   ]
  },
  {
   "cell_type": "code",
   "execution_count": 3,
   "metadata": {
    "collapsed": false
   },
   "outputs": [],
   "source": [
    "teams = np.arange(30)+1\n",
    "num_teams = len(teams)\n",
    "\n",
    "drafts = 100000\n",
    "draft_pos = np.empty((drafts, num_teams))\n",
    "\n",
    "for i in range(100000):\n",
    "    new_draft = draft_order(teams)\n",
    "    for j in range(num_teams):\n",
    "        draft_pos[i, j] = int(np.where(new_draft == teams[j])[0])+1\n",
    "\n",
    "mean_pos = np.empty(num_teams)\n",
    "        \n",
    "for k in range(num_teams):\n",
    "    mean_pos[k] = np.mean(draft_pos[:,k])"
   ]
  },
  {
   "cell_type": "markdown",
   "metadata": {},
   "source": [
    "### Plotting histograms for some of the teams\n",
    "\n",
    "Given a team of interest, the team array, draft order results and expected value results, function will plot histogram of draft positions for all the runs along with the expected value for a specific team.\n",
    "\n",
    "To check that the binning was done correctly the plotting routine also outputs the \"area under the curve\" aka the total number of counts for each draft position.  This should be the same as the number of runs."
   ]
  },
  {
   "cell_type": "code",
   "execution_count": 4,
   "metadata": {
    "collapsed": false
   },
   "outputs": [],
   "source": [
    "def plot_draft_hist(team, teams, draft_pos, mean_pos):\n",
    "    results, bins = np.histogram(draft_pos[:,team-1], bins = np.concatenate((teams,np.arange(1)+31))-0.5)\n",
    "    center = (bins[:-1]+bins[1:])/2\n",
    "    plt.bar(center, results/1e5, align = 'center')\n",
    "    plt.axvline(mean_pos[team-1], color = 'green')\n",
    "    plt.xlabel('Draft Position')\n",
    "    plt.ylabel('Frequency')\n",
    "    plt.title('Team #'+str(teams[team-1])+' outcomes')\n",
    "    plt.show()\n",
    "    \n",
    "    return(np.sum(results))\n"
   ]
  },
  {
   "cell_type": "markdown",
   "metadata": {},
   "source": [
    "Team 10's results show that it is unlikely that it will draft at it's expected value. It's a bimodal distribution and the mode appears to be 6th position."
   ]
  },
  {
   "cell_type": "code",
   "execution_count": 5,
   "metadata": {
    "collapsed": false
   },
   "outputs": [
    {
     "data": {
      "image/png": "[encoded data removed]",
      "text/plain": [
       "<matplotlib.figure.Figure at 0x10b96e048>"
      ]
     },
     "metadata": {},
     "output_type": "display_data"
    },
    {
     "data": {
      "text/plain": [
       "100000"
      ]
     },
     "execution_count": 5,
     "metadata": {},
     "output_type": "execute_result"
    }
   ],
   "source": [
    "plot_draft_hist(10,teams,draft_pos, mean_pos)"
   ]
  },
  {
   "cell_type": "markdown",
   "metadata": {},
   "source": [
    "Team 1's results show that it is also unlikely that it will draft at it's expected value. As expected, it's a 50/50 chance that it drafts first."
   ]
  },
  {
   "cell_type": "code",
   "execution_count": 6,
   "metadata": {
    "collapsed": false
   },
   "outputs": [
    {
     "data": {
      "image/png": "[encoded data removed]",
      "text/plain": [
       "<matplotlib.figure.Figure at 0x10f501908>"
      ]
     },
     "metadata": {},
     "output_type": "display_data"
    },
    {
     "data": {
      "text/plain": [
       "100000"
      ]
     },
     "execution_count": 6,
     "metadata": {},
     "output_type": "execute_result"
    }
   ],
   "source": [
    "plot_draft_hist(1,teams,draft_pos, mean_pos)"
   ]
  },
  {
   "cell_type": "markdown",
   "metadata": {},
   "source": [
    "Similar result for Team 30 as Team 1 (but reversed of course)."
   ]
  },
  {
   "cell_type": "code",
   "execution_count": 7,
   "metadata": {
    "collapsed": false
   },
   "outputs": [
    {
     "data": {
      "image/png": "[encoded data removed]",
      "text/plain": [
       "<matplotlib.figure.Figure at 0x10f8dfac8>"
      ]
     },
     "metadata": {},
     "output_type": "display_data"
    },
    {
     "data": {
      "text/plain": [
       "100000"
      ]
     },
     "execution_count": 7,
     "metadata": {},
     "output_type": "execute_result"
    }
   ],
   "source": [
    "plot_draft_hist(30,teams,draft_pos, mean_pos)"
   ]
  },
  {
   "cell_type": "markdown",
   "metadata": {},
   "source": [
    "Last but no least, Team 15 has a nearly symmetric distribution."
   ]
  },
  {
   "cell_type": "code",
   "execution_count": 8,
   "metadata": {
    "collapsed": false
   },
   "outputs": [
    {
     "data": {
      "image/png": "[encoded data removed]",
      "text/plain": [
       "<matplotlib.figure.Figure at 0x10f90d668>"
      ]
     },
     "metadata": {},
     "output_type": "display_data"
    },
    {
     "data": {
      "text/plain": [
       "100000"
      ]
     },
     "execution_count": 8,
     "metadata": {},
     "output_type": "execute_result"
    }
   ],
   "source": [
    "plot_draft_hist(15,teams,draft_pos, mean_pos)"
   ]
  },
  {
   "cell_type": "markdown",
   "metadata": {},
   "source": [
    "### Comparison of draft orders\n"
   ]
  },
  {
   "cell_type": "code",
   "execution_count": 9,
   "metadata": {
    "collapsed": false
   },
   "outputs": [
    {
     "data": {
      "image/png": "[encoded data removed]",
      "text/plain": [
       "<matplotlib.figure.Figure at 0x10f9161d0>"
      ]
     },
     "metadata": {},
     "output_type": "display_data"
    }
   ],
   "source": [
    "plt.plot(teams,mean_pos, label='Coin Draft')\n",
    "plt.plot(teams,teams/2+7.5, label='E(x)')\n",
    "plt.plot(teams,teams, label='Straight Draft')\n",
    "plt.xlabel('Team')\n",
    "plt.ylabel('Draft Position')\n",
    "plt.legend(loc = 2)\n",
    "plt.show()"
   ]
  },
  {
   "cell_type": "markdown",
   "metadata": {},
   "source": [
    "## Addendum\n",
    "Checking solution (http://fivethirtyeight.com/features/how-big-a-table-can-the-carpenter-build/) ... Yay! got it right:\n",
    "\n",
    ">And here’s the solution to last week’s Riddler Classic, concerning an experimental sports league draft. Suppose a 30-team league switches from a system in which the previous year’s worst teams draft first to a system in which teams are randomly assigned to two groups via a series of coin flips, with all of the teams in one group drafting first, but the order within those groups still being sorted out by which teams were worst last season. If your team’s draft position was 10th in the old system, its expected draft position is 12.75 under the new system.\n",
    "\n",
    "Ollie has a much better/concise explanation of the analytic solution though:\n",
    "\n",
    ">Why? Half of the time, your team wins its coin flip, putting it in the first group. In this case, you expect to draft after 9/2 other teams. The ‘9’ represents the nine teams with worse records than yours, and the ‘2’ represents the 50-50 chance any of those teams ends up in your group. Therefore, in this case, you expect to draft in (9/2)+1, or 11/2, position.\n",
    "\n",
    ">The other half of the time, your team loses its coin flip, putting it in the second group. In this case, you expect to draft before 20/2, or 10, teams. The 20 is the 20 teams with better records than yours, and the 2 represents the chance that their coin flips place them in the first group. Therefore, in this case, you expect to draft in 30-10=20th position.\n",
    "\n",
    ">Combining these two cases, your team expects to draft in 1/2⋅(11/2)+1/2⋅(20)=12.75 position."
   ]
  },
  {
   "cell_type": "code",
   "execution_count": null,
   "metadata": {
    "collapsed": true
   },
   "outputs": [],
   "source": []
  }
 ],
 "metadata": {
  "kernelspec": {
   "display_name": "Python 3",
   "language": "python",
   "name": "python3"
  },
  "language_info": {
   "codemirror_mode": {
    "name": "ipython",
    "version": 3
   },
   "file_extension": ".py",
   "mimetype": "text/x-python",
   "name": "python",
   "nbconvert_exporter": "python",
   "pygments_lexer": "ipython3",
   "version": "3.5.1"
  }
 },
 "nbformat": 4,
 "nbformat_minor": 0
}
