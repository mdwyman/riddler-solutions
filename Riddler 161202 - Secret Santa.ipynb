{
 "cells": [
  {
   "cell_type": "markdown",
   "metadata": {},
   "source": [
    "# Riddler - Can You Unmask The Secret Santas?\n",
    "_December 2, 2016_\n",
    "\n",
    "In the [Riddler Classic](http://fivethirtyeight.com/features/can-you-unmask-the-secret-santas/) we're asked:\n",
    "\n",
    ">The 41 FiveThirtyEight staff members have decided to send gifts to each other as part of a Secret Santa program. Each person is randomly assigned one of the other 40 people on the masthead to give a gift to, and they can’t give to themselves. After the Secret Santa is over, everybody naturally wants to find out who gave them their gift. So, each of them decides to ask up to 20 people who they were a Secret Santa for. If they can’t find the person who gave them the gift within 20 tries, they give up. (Twenty co-workers is a lot of co-workers to talk to, after all.) Each person asks and answers individually — they don’t tell who anyone else’s Secret Santa is. Also, nobody asks any question other than “Who were you Secret Santa for?”\n",
    "\n",
    ">If each person asks questions optimally, giving themselves the best chance to unmask their Secret Santa, what is the probability that everyone finds out who their Secret Santa was? And what is this optimal strategy? (Asking randomly won’t work, because only half the people will find their Secret Santa that way on average, and there’s about a 1-in-2 trillion chance that everyone will know.)\n",
    "\n",
    "In some follow up tweets, we learn that questions are asked sequentially and query results aren't shared with other office members."
   ]
  },
  {
   "cell_type": "markdown",
   "metadata": {},
   "source": [
    "## Analytic Analytic approach\n",
    "I think the best approach is just ask the person for whom you were Secret Santa who they were the Secret Santa and just work up the chain from there. My initial thought is that the probability would be:\n",
    "$$P = \\frac{1}{40} + \\frac{1}{39} + \\frac{1}{38} + \\frac{1}{37} ... \\frac{1}{21}$$\n",
    "Let's add it up."
   ]
  },
  {
   "cell_type": "code",
   "execution_count": 9,
   "metadata": {
    "collapsed": false
   },
   "outputs": [
    {
     "name": "stdout",
     "output_type": "stream",
     "text": [
      "0.6808033817926941\n"
     ]
    }
   ],
   "source": [
    "sum = 0\n",
    "for i in range(21,41):\n",
    "    sum += 1/i\n",
    "print(sum)"
   ]
  },
  {
   "cell_type": "code",
   "execution_count": 10,
   "metadata": {
    "collapsed": false
   },
   "outputs": [
    {
     "data": {
      "text/plain": [
       "1.42524615964702e-07"
      ]
     },
     "execution_count": 10,
     "metadata": {},
     "output_type": "execute_result"
    }
   ],
   "source": [
    "sum**41"
   ]
  },
  {
   "cell_type": "markdown",
   "metadata": {},
   "source": [
    "Let's check this method by going through all candidates"
   ]
  },
  {
   "cell_type": "code",
   "execution_count": 11,
   "metadata": {
    "collapsed": false
   },
   "outputs": [
    {
     "name": "stdout",
     "output_type": "stream",
     "text": [
      "4.278543038936376\n"
     ]
    }
   ],
   "source": [
    "sum = 0\n",
    "for i in range(1,41):\n",
    "    sum += 1/i\n",
    "print(sum)"
   ]
  },
  {
   "cell_type": "markdown",
   "metadata": {},
   "source": [
    "This method can't be right -- should go to 1 if all are asked.  Oops! I forgot to factor in the probability that the person you ask __isn't__ your Secret Santa:\n",
    "\n",
    "$$P = \\frac{1}{40} + \\frac{39}{40}(\\frac{1}{39} + \\frac{38}{39}(\\frac{1}{38} + \\frac{37}{38}(\\frac{1}{37} ... \\frac{22}{23}(\\frac{1}{22} + \\frac{21}{22}(\\frac{1}{21})))))))))))))))))))$$\n",
    "\n",
    "which reduces to:\n",
    "\n",
    "$$P = \\frac{1}{40} + \\frac{19}{40} = \\frac{1}{2}$$\n",
    "\n",
    "Generalizing for $N$ people in office and $M$ queries:\n",
    "\n",
    "$$P = \\frac{M}{N-1}$$\n",
    "\n",
    "So, for everybody to figure out their Secret Santa:\n",
    "\n",
    "$$P_{all} = P^N = \\frac{1}{2}^{41} = 4.5 \\times 10^{-13}$$\n",
    "\n",
    "Well, the question implies that we could do better..."
   ]
  },
  {
   "cell_type": "markdown",
   "metadata": {},
   "source": [
    "## Computational Approach\n",
    "Lets try creating some random directed networks and look at the distribution of neighborhood sizes.  For neighborhoods with less than 21 members, the office member will find their Secret Santa."
   ]
  },
  {
   "cell_type": "code",
   "execution_count": null,
   "metadata": {
    "collapsed": true
   },
   "outputs": [],
   "source": []
  }
 ],
 "metadata": {
  "kernelspec": {
   "display_name": "Python 3",
   "language": "python",
   "name": "python3"
  },
  "language_info": {
   "codemirror_mode": {
    "name": "ipython",
    "version": 3
   },
   "file_extension": ".py",
   "mimetype": "text/x-python",
   "name": "python",
   "nbconvert_exporter": "python",
   "pygments_lexer": "ipython3",
   "version": "3.5.1"
  }
 },
 "nbformat": 4,
 "nbformat_minor": 0
}
