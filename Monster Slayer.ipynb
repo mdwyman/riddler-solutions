{
 "cells": [
  {
   "cell_type": "code",
   "execution_count": null,
   "metadata": {
    "collapsed": true
   },
   "outputs": [],
   "source": [
    "#Riddler for Friday May 20th, 2016\n",
    "#http://fivethirtyeight.com/features/can-you-slay-the-puzzle-of-the-monsters-gems/#ss-1"
   ]
  },
  {
   "cell_type": "code",
   "execution_count": 3,
   "metadata": {
    "collapsed": true
   },
   "outputs": [],
   "source": [
    "import random"
   ]
  },
  {
   "cell_type": "code",
   "execution_count": 32,
   "metadata": {
    "collapsed": false
   },
   "outputs": [
    {
     "name": "stdout",
     "output_type": "stream",
     "text": [
      "3.653106 2.435112 1.216074\n"
     ]
    }
   ],
   "source": [
    "tot_common = 0\n",
    "tot_uncommon = 0\n",
    "tot_rare = 0\n",
    "odds_1 = 0.5\n",
    "odds_2 = 5.0/6.0\n",
    "\n",
    "games = 1000000\n",
    "\n",
    "for i in range(games):\n",
    "    curr_rare = 0\n",
    "    curr_uncommon = 0\n",
    "    curr_common = 0\n",
    "    not_full_house = 1\n",
    "\n",
    "    while not_full_house == 1:\n",
    "        roll = random.random()\n",
    "\n",
    "        if roll < odds_1:\n",
    "            curr_common += 1\n",
    "        elif roll < odds_2:\n",
    "            curr_uncommon += 1\n",
    "        else:\n",
    "            curr_rare += 1\n",
    "\n",
    "        if (curr_common >= 1 and curr_uncommon >= 1 and curr_rare >= 1): \n",
    "            tot_common = tot_common + curr_common\n",
    "            tot_uncommon = tot_uncommon + curr_uncommon\n",
    "            tot_rare = tot_rare + curr_rare\n",
    "            not_full_house = 0\n",
    "            \n",
    "print(tot_common/games,tot_uncommon/games,tot_rare/games)"
   ]
  },
  {
   "cell_type": "code",
   "execution_count": 5,
   "metadata": {
    "collapsed": false
   },
   "outputs": [
    {
     "data": {
      "text/plain": [
       "4996.9648687649415"
      ]
     },
     "execution_count": 5,
     "metadata": {},
     "output_type": "execute_result"
    }
   ],
   "source": [
    "tot"
   ]
  },
  {
   "cell_type": "code",
   "execution_count": null,
   "metadata": {
    "collapsed": true
   },
   "outputs": [],
   "source": []
  }
 ],
 "metadata": {
  "kernelspec": {
   "display_name": "Python 3",
   "language": "python",
   "name": "python3"
  },
  "language_info": {
   "codemirror_mode": {
    "name": "ipython",
    "version": 3
   },
   "file_extension": ".py",
   "mimetype": "text/x-python",
   "name": "python",
   "nbconvert_exporter": "python",
   "pygments_lexer": "ipython3",
   "version": "3.5.1"
  }
 },
 "nbformat": 4,
 "nbformat_minor": 0
}
